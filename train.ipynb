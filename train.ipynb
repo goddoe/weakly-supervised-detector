{
 "cells": [
  {
   "cell_type": "code",
   "execution_count": 2,
   "metadata": {},
   "outputs": [],
   "source": [
    "import pickle \n",
    "from importlib import reload\n",
    "\n",
    "import tensorflow as tf\n",
    "import numpy as np\n",
    "import matplotlib.pyplot as plt\n",
    "%matplotlib inline\n",
    "\n",
    "import models.custom.detector as g\n",
    "from libs.dataset_utils import prepare_data_from_tfrecord\n",
    "from libs.image_utils import (draw_bounding_box,\n",
    "                              calc_iou_accuracy,\n",
    "                              calc_iou_top_1_accuracy)\n",
    "from libs.various_utils import load_from_pickle\n",
    "from configs.project_config import project_path\n",
    "\n",
    "from helpers import (evaluate,\n",
    "                     visualize,\n",
    "                     visualize_cam,\n",
    "                     restore_preprocessed)"
   ]
  },
  {
   "cell_type": "code",
   "execution_count": 9,
   "metadata": {},
   "outputs": [],
   "source": [
    "\"\"\"\n",
    "Constant\n",
    "\"\"\"\n",
    "NUM_CLASS = 200\n",
    "INPUT_SHAPE = (64, 64, 3)\n",
    "MODEL_BASE_INPUT_SHAPE = (224, 224, 3)\n",
    "\n",
    "tfrecord_train_dir = \"{}/data/tiny-imagenet-200/tfrecord/train\".format(project_path)\n",
    "tfrecord_valid_dir = \"{}/data/tiny-imagenet-200/tfrecord/valid\".format(project_path)\n",
    "tfrecord_test_dir = \"{}/data/tiny-imagenet-200/tfrecord/test\".format(project_path)\n",
    "\n",
    "meta_path = \"{}/data/tiny-imagenet-200/meta.pickle\".format(project_path)\n",
    "pretrained_ckpt_path = \"{}/checkpoints/inception_v3/inception_v3.ckpt\".format(project_path)\n",
    "\n",
    "vanila_model_save_path = \"{}/checkpoints/vanila_inception_v3/vanila_inception_v3\".format(project_path)\n",
    "\n",
    "pickle_data_full_path = \"{}/data/tiny-imagenet-200/pickle/tiny_imagenet.pickle\".format(project_path)"
   ]
  },
  {
   "cell_type": "markdown",
   "metadata": {},
   "source": [
    "# Build Model, Dataset Pipeline and Load Pretrained Inception Weights"
   ]
  },
  {
   "cell_type": "code",
   "execution_count": 5,
   "metadata": {},
   "outputs": [
    {
     "name": "stdout",
     "output_type": "stream",
     "text": [
      "X_preprocessed shape: [None, 224, 224, 3]\n",
      "last_conv shape : [None, 5, 5, 1024]\n",
      "gap shape :[None, 1, 1, 1024]\n",
      "h shape :[None, 1, 1, 1024]\n",
      "logits_before shape :[None, 1, 1, 200]\n",
      "logits shape :[None, 200]\n",
      "W shape :[1, 1, 1024, 200]\n",
      "class_weight_by_row shape : [200, 1024]\n",
      "batch_class_weight shape : [None, 1024, 1]\n",
      "last_conv_flatten_w_h shape : [None, 4096, 1024]\n",
      "clf_var_to_optimize_list\n",
      "[<tf.Variable 'clf/conv/weights:0' shape=(3, 3, 2048, 1024) dtype=float32_ref>,\n",
      " <tf.Variable 'clf/conv/BatchNorm/beta:0' shape=(1024,) dtype=float32_ref>,\n",
      " <tf.Variable 'clf/conv/BatchNorm/moving_mean:0' shape=(1024,) dtype=float32_ref>,\n",
      " <tf.Variable 'clf/conv/BatchNorm/moving_variance:0' shape=(1024,) dtype=float32_ref>,\n",
      " <tf.Variable 'clf/logits/weights:0' shape=(1, 1, 1024, 200) dtype=float32_ref>,\n",
      " <tf.Variable 'clf/logits/biases:0' shape=(200,) dtype=float32_ref>]\n"
     ]
    }
   ],
   "source": [
    "# ==============================================================================\n",
    "# model_base_name : { \"InceptionV3\", \"InceptionV2\", \"alexnet_v2\"}\n",
    "# 각 모델마다 final endpoint를 변경할 수 있다. final endpoint 의 정보는 models/안에 모델별 폴더안의 python 파일에 들어있다.\n",
    "model_base_name = \"InceptionV3\"\n",
    "model = g.Detector(output_dim=NUM_CLASS,\n",
    "                   input_shape=INPUT_SHAPE,\n",
    "                   model_base_input_shape=MODEL_BASE_INPUT_SHAPE,\n",
    "                   model_base_name=model_base_name,\n",
    "                   model_base_final_endpoint='Mixed_7c',\n",
    "                   model_name=\"weakly_detector\")"
   ]
  },
  {
   "cell_type": "code",
   "execution_count": 6,
   "metadata": {},
   "outputs": [],
   "source": [
    "\"\"\"\n",
    "Read Data Pickle\n",
    "\"\"\"\n",
    "try :\n",
    "    d = load_from_pickle(pickle_data_full_path)\n",
    "    (X_train, P_train, Y_train, Y_train_one_hot) = (d['X_train'], d['P_train'], d['Y_train'] ,d['Y_train_one_hot'])\n",
    "    (X_valid, P_valid, Y_valid, Y_valid_one_hot) = (d['X_valid'], d['P_valid'], d['Y_valid'] ,d['Y_valid_one_hot'])\n",
    "    (X_test, P_test, Y_test, Y_test_one_hot) = (d['X_test'], d['P_test'], d['Y_test'] ,d['Y_test_one_hot'])\n",
    "    (idx_word_dict, word_idx_dict) = (d['idx_word_dict'], d['word_idx_dict'])\n",
    "    (idx_nid_dict, nid_idx_dict) = (d['idx_nid_dict'], d['nid_idx_dict'])\n",
    "except Exception as e: \n",
    "    print(\"maybe there is no pickle data: {}\".format(e))"
   ]
  },
  {
   "cell_type": "code",
   "execution_count": 10,
   "metadata": {},
   "outputs": [
    {
     "name": "stdout",
     "output_type": "stream",
     "text": [
      "INFO:tensorflow:Restoring parameters from /home/sungju/projects/sj/weakly_supervised_detector/checkpoints/inception_v3/inception_v3.ckpt\n"
     ]
    }
   ],
   "source": [
    "# ==============================================================================\n",
    "with model.g.as_default():\n",
    "    \"\"\"\n",
    "    Read Data\n",
    "    \"\"\"\n",
    "    d = prepare_data_from_tfrecord(\n",
    "        tfrecord_train_dir=tfrecord_train_dir,\n",
    "        tfrecord_valid_dir=tfrecord_valid_dir,\n",
    "        tfrecord_test_dir=tfrecord_test_dir,\n",
    "        batch_size=64,\n",
    "        shuffle_buffer_size=1000)\n",
    "    (X, Y, P,\n",
    "     init_dataset_train,\n",
    "     init_dataset_valid,\n",
    "     init_dataset_test,\n",
    "     \n",
    "     X_raw, Y_raw, P_raw,\n",
    "     init_dataset_train_raw,\n",
    "     init_dataset_valid_raw,\n",
    "     init_dataset_test_raw,) = (d['X'], d['Y'], d['P'],\n",
    "                            d['init_dataset_train'],\n",
    "                            d['init_dataset_valid'],\n",
    "                            d['init_dataset_test'],\n",
    "                            d['X_raw'], d['Y_raw'], d['P_raw'],\n",
    "                            d['init_dataset_train_raw'],\n",
    "                            d['init_dataset_valid_raw'],\n",
    "                            d['init_dataset_test_raw'])\n",
    "\n",
    "    meta = load_from_pickle(meta_path)\n",
    "    model.meta.update(meta)\n",
    "\n",
    "    \"\"\"\n",
    "    Initialize with pretrained weights\n",
    "    \"\"\"\n",
    "    variables_to_restore = tf.contrib.framework.get_variables_to_restore(\n",
    "        include=[model_base_name])\n",
    "    init_pretrain_fn = tf.contrib.framework.assign_from_checkpoint_fn(\n",
    "        pretrained_ckpt_path, variables_to_restore)\n",
    "\n",
    "    init_pretrain_fn(model.sess)"
   ]
  },
  {
   "cell_type": "markdown",
   "metadata": {},
   "source": [
    "# Vanila Model - Learning Deep Features for Discriminative Localization"
   ]
  },
  {
   "cell_type": "code",
   "execution_count": 11,
   "metadata": {},
   "outputs": [
    {
     "name": "stderr",
     "output_type": "stream",
     "text": [
      "epoch 0, batch 1249 takes: 0.30 sec:   0%|          | 0/2 [08:42<?, ?it/s]"
     ]
    },
    {
     "name": "stdout",
     "output_type": "stream",
     "text": [
      "------------------------------\n",
      "epoch_i : 0\n",
      "train loss: 14.333846949386597, train accuracy: 0.571075\n",
      "valid loss: 15.448203465270996, valid accuracy: 0.55925\n",
      "best valid loss: 999999999.0, best valid accuracy : 0.0\n"
     ]
    },
    {
     "name": "stderr",
     "output_type": "stream",
     "text": [
      "epoch 0, batch 1249 takes: 0.30 sec:  50%|█████     | 1/2 [17:46<17:46, 1066.39s/it]"
     ]
    },
    {
     "name": "stdout",
     "output_type": "stream",
     "text": [
      "******************************\n",
      "epoh_i : 0\n",
      "train loss: 14.333846949386597, train accuracy: 0.571075\n",
      "valid loss: 15.448203465270996, valid accuracy: 0.55925\n",
      "best valid loss: 15.448203465270996, best valid accuracy : 0.55925\n",
      "save current model : ./tmp/20180906_005305_GKDWZB/weakly_detector\n"
     ]
    },
    {
     "name": "stderr",
     "output_type": "stream",
     "text": [
      "epoch 1, batch 1249 takes: 0.29 sec:  50%|█████     | 1/2 [26:24<26:24, 1584.03s/it]"
     ]
    },
    {
     "name": "stdout",
     "output_type": "stream",
     "text": [
      "------------------------------\n",
      "epoch_i : 1\n",
      "train loss: 17.705852726364135, train accuracy: 0.592325\n",
      "valid loss: 20.06762677307129, valid accuracy: 0.57235\n",
      "best valid loss: 15.448203465270996, best valid accuracy : 0.55925\n"
     ]
    },
    {
     "name": "stderr",
     "output_type": "stream",
     "text": [
      "epoch 1, batch 1249 takes: 0.29 sec: 100%|██████████| 2/2 [35:23<00:00, 1061.93s/it]"
     ]
    },
    {
     "name": "stdout",
     "output_type": "stream",
     "text": [
      "******************************\n",
      "epoh_i : 1\n",
      "train loss: 17.705852726364135, train accuracy: 0.592325\n",
      "valid loss: 20.06762677307129, valid accuracy: 0.57235\n",
      "best valid loss: 20.06762677307129, best valid accuracy : 0.57235\n",
      "save current model : ./tmp/20180906_005305_GKDWZB/weakly_detector\n",
      "train takes : 2123.8634312152863 sec\n",
      "INFO:tensorflow:Restoring parameters from ./tmp/20180906_005305_GKDWZB/weakly_detector\n"
     ]
    },
    {
     "name": "stderr",
     "output_type": "stream",
     "text": [
      "\n"
     ]
    },
    {
     "name": "stdout",
     "output_type": "stream",
     "text": [
      "******************************\n",
      "final trained performance\n",
      "train loss: 17.705852561569213, train accuracy: 0.592325\n",
      "valid loss: 20.06762677307129, valid accuracy: 0.57235\n",
      "best valid loss: 20.06762677307129, best valid accuracy : 0.57235\n",
      "final_model_path: ./tmp/20180906_005305_GKDWZB/20180906_013727_final_weakly_detector\n",
      "train done\n",
      "******************************\n"
     ]
    },
    {
     "data": {
      "text/plain": [
       "<models.custom.detector.Detector at 0x7f6207b5eeb8>"
      ]
     },
     "execution_count": 11,
     "metadata": {},
     "output_type": "execute_result"
    }
   ],
   "source": [
    "# ==============================================================================\n",
    "\n",
    "model.train_with_dataset_api(X=X,\n",
    "                             Y=Y,\n",
    "                             init_dataset_train=init_dataset_train,\n",
    "                             init_dataset_valid=init_dataset_valid,\n",
    "                             n_epoch=2,\n",
    "                             learning_rate=0.001,\n",
    "                             reg_lambda=0.,\n",
    "                             dropout_keep_prob=0.8,\n",
    "                             patience=10,\n",
    "                             verbose_interval=1,\n",
    "                             mode=g.MODE_TRAIN_ONLY_CLF,\n",
    "                             save_dir_path=None)"
   ]
  },
  {
   "cell_type": "code",
   "execution_count": 12,
   "metadata": {},
   "outputs": [
    {
     "name": "stderr",
     "output_type": "stream",
     "text": [
      "  0%|          | 0/1 [00:00<?, ?it/s]"
     ]
    },
    {
     "name": "stdout",
     "output_type": "stream",
     "text": [
      "******************************\n",
      "Make directory with save_dir_path is failed\n",
      "Maybe, there is directory already or error because of \"[Errno 17] File exists: './tmp/20180906_005305_GKDWZB'\"\n"
     ]
    },
    {
     "ename": "ResourceExhaustedError",
     "evalue": "OOM when allocating tensor with shape[64,12,12,768]\n\t [[Node: InceptionV3/Mixed_6d/Branch_3/AvgPool_0a_3x3/AvgPool = AvgPool[T=DT_FLOAT, data_format=\"NHWC\", ksize=[1, 3, 3, 1], padding=\"SAME\", strides=[1, 1, 1, 1], _device=\"/job:localhost/replica:0/task:0/device:GPU:0\"](InceptionV3/Mixed_6c/concat)]]\n\nCaused by op 'InceptionV3/Mixed_6d/Branch_3/AvgPool_0a_3x3/AvgPool', defined at:\n  File \"/usr/lib/python3.5/runpy.py\", line 184, in _run_module_as_main\n    \"__main__\", mod_spec)\n  File \"/usr/lib/python3.5/runpy.py\", line 85, in _run_code\n    exec(code, run_globals)\n  File \"/usr/local/lib/python3.5/dist-packages/ipykernel_launcher.py\", line 16, in <module>\n    app.launch_new_instance()\n  File \"/usr/local/lib/python3.5/dist-packages/traitlets/config/application.py\", line 658, in launch_instance\n    app.start()\n  File \"/usr/local/lib/python3.5/dist-packages/ipykernel/kernelapp.py\", line 478, in start\n    self.io_loop.start()\n  File \"/usr/local/lib/python3.5/dist-packages/zmq/eventloop/ioloop.py\", line 177, in start\n    super(ZMQIOLoop, self).start()\n  File \"/usr/local/lib/python3.5/dist-packages/tornado/ioloop.py\", line 888, in start\n    handler_func(fd_obj, events)\n  File \"/usr/local/lib/python3.5/dist-packages/tornado/stack_context.py\", line 277, in null_wrapper\n    return fn(*args, **kwargs)\n  File \"/usr/local/lib/python3.5/dist-packages/zmq/eventloop/zmqstream.py\", line 440, in _handle_events\n    self._handle_recv()\n  File \"/usr/local/lib/python3.5/dist-packages/zmq/eventloop/zmqstream.py\", line 472, in _handle_recv\n    self._run_callback(callback, msg)\n  File \"/usr/local/lib/python3.5/dist-packages/zmq/eventloop/zmqstream.py\", line 414, in _run_callback\n    callback(*args, **kwargs)\n  File \"/usr/local/lib/python3.5/dist-packages/tornado/stack_context.py\", line 277, in null_wrapper\n    return fn(*args, **kwargs)\n  File \"/usr/local/lib/python3.5/dist-packages/ipykernel/kernelbase.py\", line 281, in dispatcher\n    return self.dispatch_shell(stream, msg)\n  File \"/usr/local/lib/python3.5/dist-packages/ipykernel/kernelbase.py\", line 232, in dispatch_shell\n    handler(stream, idents, msg)\n  File \"/usr/local/lib/python3.5/dist-packages/ipykernel/kernelbase.py\", line 397, in execute_request\n    user_expressions, allow_stdin)\n  File \"/usr/local/lib/python3.5/dist-packages/ipykernel/ipkernel.py\", line 208, in do_execute\n    res = shell.run_cell(code, store_history=store_history, silent=silent)\n  File \"/usr/local/lib/python3.5/dist-packages/ipykernel/zmqshell.py\", line 533, in run_cell\n    return super(ZMQInteractiveShell, self).run_cell(*args, **kwargs)\n  File \"/usr/local/lib/python3.5/dist-packages/IPython/core/interactiveshell.py\", line 2728, in run_cell\n    interactivity=interactivity, compiler=compiler, result=result)\n  File \"/usr/local/lib/python3.5/dist-packages/IPython/core/interactiveshell.py\", line 2850, in run_ast_nodes\n    if self.run_code(code, result):\n  File \"/usr/local/lib/python3.5/dist-packages/IPython/core/interactiveshell.py\", line 2910, in run_code\n    exec(code_obj, self.user_global_ns, self.user_ns)\n  File \"<ipython-input-5-19089916971f>\", line 10, in <module>\n    model_name=\"weakly_detector\")\n  File \"/home/sungju/projects/sj/weakly_supervised_detector/models/custom/detector.py\", line 157, in __init__\n    self.build_model()\n  File \"/home/sungju/projects/sj/weakly_supervised_detector/models/custom/detector.py\", line 206, in build_model\n    self.model_base_final_endpoint)\n  File \"/home/sungju/projects/sj/weakly_supervised_detector/models/custom/detector.py\", line 35, in build_inception_v3_base\n    scope='InceptionV3')\n  File \"/home/sungju/projects/sj/weakly_supervised_detector/models/inception/inception_v3.py\", line 310, in inception_v3_base\n    branch_3 = slim.avg_pool2d(net, [3, 3], scope='AvgPool_0a_3x3')\n  File \"/usr/local/lib/python3.5/dist-packages/tensorflow/contrib/framework/python/ops/arg_scope.py\", line 181, in func_with_args\n    return func(*args, **current_args)\n  File \"/usr/local/lib/python3.5/dist-packages/tensorflow/contrib/layers/python/layers/layers.py\", line 149, in avg_pool2d\n    outputs = layer.apply(inputs)\n  File \"/usr/local/lib/python3.5/dist-packages/tensorflow/python/layers/base.py\", line 671, in apply\n    return self.__call__(inputs, *args, **kwargs)\n  File \"/usr/local/lib/python3.5/dist-packages/tensorflow/python/layers/base.py\", line 575, in __call__\n    outputs = self.call(inputs, *args, **kwargs)\n  File \"/usr/local/lib/python3.5/dist-packages/tensorflow/python/layers/pooling.py\", line 266, in call\n    data_format=utils.convert_data_format(self.data_format, 4))\n  File \"/usr/local/lib/python3.5/dist-packages/tensorflow/python/ops/nn_ops.py\", line 1930, in avg_pool\n    name=name)\n  File \"/usr/local/lib/python3.5/dist-packages/tensorflow/python/ops/gen_nn_ops.py\", line 68, in _avg_pool\n    data_format=data_format, name=name)\n  File \"/usr/local/lib/python3.5/dist-packages/tensorflow/python/framework/op_def_library.py\", line 787, in _apply_op_helper\n    op_def=op_def)\n  File \"/usr/local/lib/python3.5/dist-packages/tensorflow/python/framework/ops.py\", line 2956, in create_op\n    op_def=op_def)\n  File \"/usr/local/lib/python3.5/dist-packages/tensorflow/python/framework/ops.py\", line 1470, in __init__\n    self._traceback = self._graph._extract_stack()  # pylint: disable=protected-access\n\nResourceExhaustedError (see above for traceback): OOM when allocating tensor with shape[64,12,12,768]\n\t [[Node: InceptionV3/Mixed_6d/Branch_3/AvgPool_0a_3x3/AvgPool = AvgPool[T=DT_FLOAT, data_format=\"NHWC\", ksize=[1, 3, 3, 1], padding=\"SAME\", strides=[1, 1, 1, 1], _device=\"/job:localhost/replica:0/task:0/device:GPU:0\"](InceptionV3/Mixed_6c/concat)]]\n",
     "output_type": "error",
     "traceback": [
      "\u001b[0;31m---------------------------------------------------------------------------\u001b[0m",
      "\u001b[0;31mResourceExhaustedError\u001b[0m                    Traceback (most recent call last)",
      "\u001b[0;32m/usr/local/lib/python3.5/dist-packages/tensorflow/python/client/session.py\u001b[0m in \u001b[0;36m_do_call\u001b[0;34m(self, fn, *args)\u001b[0m\n\u001b[1;32m   1322\u001b[0m     \u001b[0;32mtry\u001b[0m\u001b[0;34m:\u001b[0m\u001b[0;34m\u001b[0m\u001b[0m\n\u001b[0;32m-> 1323\u001b[0;31m       \u001b[0;32mreturn\u001b[0m \u001b[0mfn\u001b[0m\u001b[0;34m(\u001b[0m\u001b[0;34m*\u001b[0m\u001b[0margs\u001b[0m\u001b[0;34m)\u001b[0m\u001b[0;34m\u001b[0m\u001b[0m\n\u001b[0m\u001b[1;32m   1324\u001b[0m     \u001b[0;32mexcept\u001b[0m \u001b[0merrors\u001b[0m\u001b[0;34m.\u001b[0m\u001b[0mOpError\u001b[0m \u001b[0;32mas\u001b[0m \u001b[0me\u001b[0m\u001b[0;34m:\u001b[0m\u001b[0;34m\u001b[0m\u001b[0m\n",
      "\u001b[0;32m/usr/local/lib/python3.5/dist-packages/tensorflow/python/client/session.py\u001b[0m in \u001b[0;36m_run_fn\u001b[0;34m(session, feed_dict, fetch_list, target_list, options, run_metadata)\u001b[0m\n\u001b[1;32m   1301\u001b[0m                                    \u001b[0mfeed_dict\u001b[0m\u001b[0;34m,\u001b[0m \u001b[0mfetch_list\u001b[0m\u001b[0;34m,\u001b[0m \u001b[0mtarget_list\u001b[0m\u001b[0;34m,\u001b[0m\u001b[0;34m\u001b[0m\u001b[0m\n\u001b[0;32m-> 1302\u001b[0;31m                                    status, run_metadata)\n\u001b[0m\u001b[1;32m   1303\u001b[0m \u001b[0;34m\u001b[0m\u001b[0m\n",
      "\u001b[0;32m/usr/local/lib/python3.5/dist-packages/tensorflow/python/framework/errors_impl.py\u001b[0m in \u001b[0;36m__exit__\u001b[0;34m(self, type_arg, value_arg, traceback_arg)\u001b[0m\n\u001b[1;32m    472\u001b[0m             \u001b[0mcompat\u001b[0m\u001b[0;34m.\u001b[0m\u001b[0mas_text\u001b[0m\u001b[0;34m(\u001b[0m\u001b[0mc_api\u001b[0m\u001b[0;34m.\u001b[0m\u001b[0mTF_Message\u001b[0m\u001b[0;34m(\u001b[0m\u001b[0mself\u001b[0m\u001b[0;34m.\u001b[0m\u001b[0mstatus\u001b[0m\u001b[0;34m.\u001b[0m\u001b[0mstatus\u001b[0m\u001b[0;34m)\u001b[0m\u001b[0;34m)\u001b[0m\u001b[0;34m,\u001b[0m\u001b[0;34m\u001b[0m\u001b[0m\n\u001b[0;32m--> 473\u001b[0;31m             c_api.TF_GetCode(self.status.status))\n\u001b[0m\u001b[1;32m    474\u001b[0m     \u001b[0;31m# Delete the underlying status object from memory otherwise it stays alive\u001b[0m\u001b[0;34m\u001b[0m\u001b[0;34m\u001b[0m\u001b[0m\n",
      "\u001b[0;31mResourceExhaustedError\u001b[0m: OOM when allocating tensor with shape[64,12,12,768]\n\t [[Node: InceptionV3/Mixed_6d/Branch_3/AvgPool_0a_3x3/AvgPool = AvgPool[T=DT_FLOAT, data_format=\"NHWC\", ksize=[1, 3, 3, 1], padding=\"SAME\", strides=[1, 1, 1, 1], _device=\"/job:localhost/replica:0/task:0/device:GPU:0\"](InceptionV3/Mixed_6c/concat)]]",
      "\nDuring handling of the above exception, another exception occurred:\n",
      "\u001b[0;31mResourceExhaustedError\u001b[0m                    Traceback (most recent call last)",
      "\u001b[0;32m<ipython-input-12-0c716f3cc009>\u001b[0m in \u001b[0;36m<module>\u001b[0;34m()\u001b[0m\n\u001b[1;32m     10\u001b[0m                              \u001b[0mverbose_interval\u001b[0m\u001b[0;34m=\u001b[0m\u001b[0;36m1\u001b[0m\u001b[0;34m,\u001b[0m\u001b[0;34m\u001b[0m\u001b[0m\n\u001b[1;32m     11\u001b[0m                              \u001b[0mmode\u001b[0m\u001b[0;34m=\u001b[0m\u001b[0mg\u001b[0m\u001b[0;34m.\u001b[0m\u001b[0mMODE_TRAIN_GLOBAL\u001b[0m\u001b[0;34m,\u001b[0m\u001b[0;34m\u001b[0m\u001b[0m\n\u001b[0;32m---> 12\u001b[0;31m                              save_dir_path=None)\n\u001b[0m\u001b[1;32m     13\u001b[0m \u001b[0;34m\u001b[0m\u001b[0m\n\u001b[1;32m     14\u001b[0m \u001b[0mmodel\u001b[0m\u001b[0;34m.\u001b[0m\u001b[0msave\u001b[0m\u001b[0;34m(\u001b[0m\u001b[0mvanila_model_save_path\u001b[0m\u001b[0;34m)\u001b[0m\u001b[0;34m\u001b[0m\u001b[0m\n",
      "\u001b[0;32m~/projects/sj/weakly_supervised_detector/models/custom/detector.py\u001b[0m in \u001b[0;36mtrain_with_dataset_api\u001b[0;34m(self, X, Y, init_dataset_train, init_dataset_valid, n_epoch, learning_rate, reg_lambda, dropout_keep_prob, patience, mode, flag_preprocess, verbose_interval, save_dir_path)\u001b[0m\n\u001b[1;32m    481\u001b[0m                                    \u001b[0mself\u001b[0m\u001b[0;34m.\u001b[0m\u001b[0mreg_lambda\u001b[0m\u001b[0;34m:\u001b[0m \u001b[0mreg_lambda\u001b[0m\u001b[0;34m,\u001b[0m\u001b[0;34m\u001b[0m\u001b[0m\n\u001b[1;32m    482\u001b[0m                                    \u001b[0mself\u001b[0m\u001b[0;34m.\u001b[0m\u001b[0mdropout_keep_prob\u001b[0m\u001b[0;34m:\u001b[0m \u001b[0mdropout_keep_prob\u001b[0m\u001b[0;34m,\u001b[0m\u001b[0;34m\u001b[0m\u001b[0m\n\u001b[0;32m--> 483\u001b[0;31m                                    self.is_training: True})\n\u001b[0m\u001b[1;32m    484\u001b[0m \u001b[0;34m\u001b[0m\u001b[0m\n\u001b[1;32m    485\u001b[0m                     \u001b[0mcurr_time\u001b[0m \u001b[0;34m=\u001b[0m \u001b[0mtime\u001b[0m\u001b[0;34m.\u001b[0m\u001b[0mtime\u001b[0m\u001b[0;34m(\u001b[0m\u001b[0;34m)\u001b[0m\u001b[0;34m\u001b[0m\u001b[0m\n",
      "\u001b[0;32m/usr/local/lib/python3.5/dist-packages/tensorflow/python/client/session.py\u001b[0m in \u001b[0;36mrun\u001b[0;34m(self, fetches, feed_dict, options, run_metadata)\u001b[0m\n\u001b[1;32m    887\u001b[0m     \u001b[0;32mtry\u001b[0m\u001b[0;34m:\u001b[0m\u001b[0;34m\u001b[0m\u001b[0m\n\u001b[1;32m    888\u001b[0m       result = self._run(None, fetches, feed_dict, options_ptr,\n\u001b[0;32m--> 889\u001b[0;31m                          run_metadata_ptr)\n\u001b[0m\u001b[1;32m    890\u001b[0m       \u001b[0;32mif\u001b[0m \u001b[0mrun_metadata\u001b[0m\u001b[0;34m:\u001b[0m\u001b[0;34m\u001b[0m\u001b[0m\n\u001b[1;32m    891\u001b[0m         \u001b[0mproto_data\u001b[0m \u001b[0;34m=\u001b[0m \u001b[0mtf_session\u001b[0m\u001b[0;34m.\u001b[0m\u001b[0mTF_GetBuffer\u001b[0m\u001b[0;34m(\u001b[0m\u001b[0mrun_metadata_ptr\u001b[0m\u001b[0;34m)\u001b[0m\u001b[0;34m\u001b[0m\u001b[0m\n",
      "\u001b[0;32m/usr/local/lib/python3.5/dist-packages/tensorflow/python/client/session.py\u001b[0m in \u001b[0;36m_run\u001b[0;34m(self, handle, fetches, feed_dict, options, run_metadata)\u001b[0m\n\u001b[1;32m   1118\u001b[0m     \u001b[0;32mif\u001b[0m \u001b[0mfinal_fetches\u001b[0m \u001b[0;32mor\u001b[0m \u001b[0mfinal_targets\u001b[0m \u001b[0;32mor\u001b[0m \u001b[0;34m(\u001b[0m\u001b[0mhandle\u001b[0m \u001b[0;32mand\u001b[0m \u001b[0mfeed_dict_tensor\u001b[0m\u001b[0;34m)\u001b[0m\u001b[0;34m:\u001b[0m\u001b[0;34m\u001b[0m\u001b[0m\n\u001b[1;32m   1119\u001b[0m       results = self._do_run(handle, final_targets, final_fetches,\n\u001b[0;32m-> 1120\u001b[0;31m                              feed_dict_tensor, options, run_metadata)\n\u001b[0m\u001b[1;32m   1121\u001b[0m     \u001b[0;32melse\u001b[0m\u001b[0;34m:\u001b[0m\u001b[0;34m\u001b[0m\u001b[0m\n\u001b[1;32m   1122\u001b[0m       \u001b[0mresults\u001b[0m \u001b[0;34m=\u001b[0m \u001b[0;34m[\u001b[0m\u001b[0;34m]\u001b[0m\u001b[0;34m\u001b[0m\u001b[0m\n",
      "\u001b[0;32m/usr/local/lib/python3.5/dist-packages/tensorflow/python/client/session.py\u001b[0m in \u001b[0;36m_do_run\u001b[0;34m(self, handle, target_list, fetch_list, feed_dict, options, run_metadata)\u001b[0m\n\u001b[1;32m   1315\u001b[0m     \u001b[0;32mif\u001b[0m \u001b[0mhandle\u001b[0m \u001b[0;32mis\u001b[0m \u001b[0;32mNone\u001b[0m\u001b[0;34m:\u001b[0m\u001b[0;34m\u001b[0m\u001b[0m\n\u001b[1;32m   1316\u001b[0m       return self._do_call(_run_fn, self._session, feeds, fetches, targets,\n\u001b[0;32m-> 1317\u001b[0;31m                            options, run_metadata)\n\u001b[0m\u001b[1;32m   1318\u001b[0m     \u001b[0;32melse\u001b[0m\u001b[0;34m:\u001b[0m\u001b[0;34m\u001b[0m\u001b[0m\n\u001b[1;32m   1319\u001b[0m       \u001b[0;32mreturn\u001b[0m \u001b[0mself\u001b[0m\u001b[0;34m.\u001b[0m\u001b[0m_do_call\u001b[0m\u001b[0;34m(\u001b[0m\u001b[0m_prun_fn\u001b[0m\u001b[0;34m,\u001b[0m \u001b[0mself\u001b[0m\u001b[0;34m.\u001b[0m\u001b[0m_session\u001b[0m\u001b[0;34m,\u001b[0m \u001b[0mhandle\u001b[0m\u001b[0;34m,\u001b[0m \u001b[0mfeeds\u001b[0m\u001b[0;34m,\u001b[0m \u001b[0mfetches\u001b[0m\u001b[0;34m)\u001b[0m\u001b[0;34m\u001b[0m\u001b[0m\n",
      "\u001b[0;32m/usr/local/lib/python3.5/dist-packages/tensorflow/python/client/session.py\u001b[0m in \u001b[0;36m_do_call\u001b[0;34m(self, fn, *args)\u001b[0m\n\u001b[1;32m   1334\u001b[0m         \u001b[0;32mexcept\u001b[0m \u001b[0mKeyError\u001b[0m\u001b[0;34m:\u001b[0m\u001b[0;34m\u001b[0m\u001b[0m\n\u001b[1;32m   1335\u001b[0m           \u001b[0;32mpass\u001b[0m\u001b[0;34m\u001b[0m\u001b[0m\n\u001b[0;32m-> 1336\u001b[0;31m       \u001b[0;32mraise\u001b[0m \u001b[0mtype\u001b[0m\u001b[0;34m(\u001b[0m\u001b[0me\u001b[0m\u001b[0;34m)\u001b[0m\u001b[0;34m(\u001b[0m\u001b[0mnode_def\u001b[0m\u001b[0;34m,\u001b[0m \u001b[0mop\u001b[0m\u001b[0;34m,\u001b[0m \u001b[0mmessage\u001b[0m\u001b[0;34m)\u001b[0m\u001b[0;34m\u001b[0m\u001b[0m\n\u001b[0m\u001b[1;32m   1337\u001b[0m \u001b[0;34m\u001b[0m\u001b[0m\n\u001b[1;32m   1338\u001b[0m   \u001b[0;32mdef\u001b[0m \u001b[0m_extend_graph\u001b[0m\u001b[0;34m(\u001b[0m\u001b[0mself\u001b[0m\u001b[0;34m)\u001b[0m\u001b[0;34m:\u001b[0m\u001b[0;34m\u001b[0m\u001b[0m\n",
      "\u001b[0;31mResourceExhaustedError\u001b[0m: OOM when allocating tensor with shape[64,12,12,768]\n\t [[Node: InceptionV3/Mixed_6d/Branch_3/AvgPool_0a_3x3/AvgPool = AvgPool[T=DT_FLOAT, data_format=\"NHWC\", ksize=[1, 3, 3, 1], padding=\"SAME\", strides=[1, 1, 1, 1], _device=\"/job:localhost/replica:0/task:0/device:GPU:0\"](InceptionV3/Mixed_6c/concat)]]\n\nCaused by op 'InceptionV3/Mixed_6d/Branch_3/AvgPool_0a_3x3/AvgPool', defined at:\n  File \"/usr/lib/python3.5/runpy.py\", line 184, in _run_module_as_main\n    \"__main__\", mod_spec)\n  File \"/usr/lib/python3.5/runpy.py\", line 85, in _run_code\n    exec(code, run_globals)\n  File \"/usr/local/lib/python3.5/dist-packages/ipykernel_launcher.py\", line 16, in <module>\n    app.launch_new_instance()\n  File \"/usr/local/lib/python3.5/dist-packages/traitlets/config/application.py\", line 658, in launch_instance\n    app.start()\n  File \"/usr/local/lib/python3.5/dist-packages/ipykernel/kernelapp.py\", line 478, in start\n    self.io_loop.start()\n  File \"/usr/local/lib/python3.5/dist-packages/zmq/eventloop/ioloop.py\", line 177, in start\n    super(ZMQIOLoop, self).start()\n  File \"/usr/local/lib/python3.5/dist-packages/tornado/ioloop.py\", line 888, in start\n    handler_func(fd_obj, events)\n  File \"/usr/local/lib/python3.5/dist-packages/tornado/stack_context.py\", line 277, in null_wrapper\n    return fn(*args, **kwargs)\n  File \"/usr/local/lib/python3.5/dist-packages/zmq/eventloop/zmqstream.py\", line 440, in _handle_events\n    self._handle_recv()\n  File \"/usr/local/lib/python3.5/dist-packages/zmq/eventloop/zmqstream.py\", line 472, in _handle_recv\n    self._run_callback(callback, msg)\n  File \"/usr/local/lib/python3.5/dist-packages/zmq/eventloop/zmqstream.py\", line 414, in _run_callback\n    callback(*args, **kwargs)\n  File \"/usr/local/lib/python3.5/dist-packages/tornado/stack_context.py\", line 277, in null_wrapper\n    return fn(*args, **kwargs)\n  File \"/usr/local/lib/python3.5/dist-packages/ipykernel/kernelbase.py\", line 281, in dispatcher\n    return self.dispatch_shell(stream, msg)\n  File \"/usr/local/lib/python3.5/dist-packages/ipykernel/kernelbase.py\", line 232, in dispatch_shell\n    handler(stream, idents, msg)\n  File \"/usr/local/lib/python3.5/dist-packages/ipykernel/kernelbase.py\", line 397, in execute_request\n    user_expressions, allow_stdin)\n  File \"/usr/local/lib/python3.5/dist-packages/ipykernel/ipkernel.py\", line 208, in do_execute\n    res = shell.run_cell(code, store_history=store_history, silent=silent)\n  File \"/usr/local/lib/python3.5/dist-packages/ipykernel/zmqshell.py\", line 533, in run_cell\n    return super(ZMQInteractiveShell, self).run_cell(*args, **kwargs)\n  File \"/usr/local/lib/python3.5/dist-packages/IPython/core/interactiveshell.py\", line 2728, in run_cell\n    interactivity=interactivity, compiler=compiler, result=result)\n  File \"/usr/local/lib/python3.5/dist-packages/IPython/core/interactiveshell.py\", line 2850, in run_ast_nodes\n    if self.run_code(code, result):\n  File \"/usr/local/lib/python3.5/dist-packages/IPython/core/interactiveshell.py\", line 2910, in run_code\n    exec(code_obj, self.user_global_ns, self.user_ns)\n  File \"<ipython-input-5-19089916971f>\", line 10, in <module>\n    model_name=\"weakly_detector\")\n  File \"/home/sungju/projects/sj/weakly_supervised_detector/models/custom/detector.py\", line 157, in __init__\n    self.build_model()\n  File \"/home/sungju/projects/sj/weakly_supervised_detector/models/custom/detector.py\", line 206, in build_model\n    self.model_base_final_endpoint)\n  File \"/home/sungju/projects/sj/weakly_supervised_detector/models/custom/detector.py\", line 35, in build_inception_v3_base\n    scope='InceptionV3')\n  File \"/home/sungju/projects/sj/weakly_supervised_detector/models/inception/inception_v3.py\", line 310, in inception_v3_base\n    branch_3 = slim.avg_pool2d(net, [3, 3], scope='AvgPool_0a_3x3')\n  File \"/usr/local/lib/python3.5/dist-packages/tensorflow/contrib/framework/python/ops/arg_scope.py\", line 181, in func_with_args\n    return func(*args, **current_args)\n  File \"/usr/local/lib/python3.5/dist-packages/tensorflow/contrib/layers/python/layers/layers.py\", line 149, in avg_pool2d\n    outputs = layer.apply(inputs)\n  File \"/usr/local/lib/python3.5/dist-packages/tensorflow/python/layers/base.py\", line 671, in apply\n    return self.__call__(inputs, *args, **kwargs)\n  File \"/usr/local/lib/python3.5/dist-packages/tensorflow/python/layers/base.py\", line 575, in __call__\n    outputs = self.call(inputs, *args, **kwargs)\n  File \"/usr/local/lib/python3.5/dist-packages/tensorflow/python/layers/pooling.py\", line 266, in call\n    data_format=utils.convert_data_format(self.data_format, 4))\n  File \"/usr/local/lib/python3.5/dist-packages/tensorflow/python/ops/nn_ops.py\", line 1930, in avg_pool\n    name=name)\n  File \"/usr/local/lib/python3.5/dist-packages/tensorflow/python/ops/gen_nn_ops.py\", line 68, in _avg_pool\n    data_format=data_format, name=name)\n  File \"/usr/local/lib/python3.5/dist-packages/tensorflow/python/framework/op_def_library.py\", line 787, in _apply_op_helper\n    op_def=op_def)\n  File \"/usr/local/lib/python3.5/dist-packages/tensorflow/python/framework/ops.py\", line 2956, in create_op\n    op_def=op_def)\n  File \"/usr/local/lib/python3.5/dist-packages/tensorflow/python/framework/ops.py\", line 1470, in __init__\n    self._traceback = self._graph._extract_stack()  # pylint: disable=protected-access\n\nResourceExhaustedError (see above for traceback): OOM when allocating tensor with shape[64,12,12,768]\n\t [[Node: InceptionV3/Mixed_6d/Branch_3/AvgPool_0a_3x3/AvgPool = AvgPool[T=DT_FLOAT, data_format=\"NHWC\", ksize=[1, 3, 3, 1], padding=\"SAME\", strides=[1, 1, 1, 1], _device=\"/job:localhost/replica:0/task:0/device:GPU:0\"](InceptionV3/Mixed_6c/concat)]]\n"
     ]
    }
   ],
   "source": [
    "model.train_with_dataset_api(X=X,\n",
    "                             Y=Y,\n",
    "                             init_dataset_train=init_dataset_train,\n",
    "                             init_dataset_valid=init_dataset_valid,\n",
    "                             n_epoch=1,\n",
    "                             learning_rate=0.001,\n",
    "                             reg_lambda=0.,\n",
    "                             dropout_keep_prob=0.8,\n",
    "                             patience=10,\n",
    "                             verbose_interval=1,\n",
    "                             mode=g.MODE_TRAIN_GLOBAL,\n",
    "                             save_dir_path=None)\n",
    "\n",
    "model.save(vanila_model_save_path)"
   ]
  },
  {
   "cell_type": "markdown",
   "metadata": {},
   "source": [
    "# Run Sample"
   ]
  },
  {
   "cell_type": "code",
   "execution_count": null,
   "metadata": {},
   "outputs": [],
   "source": [
    "# ==============================================================================\n",
    "num_sample = 100\n",
    "X_sample =  X_train[:num_sample]\n",
    "P_sample = P_train[:num_sample]\n",
    "Y_sample_one_hot = Y_train_one_hot[:num_sample]\n",
    "Y_sample = Y_train[:num_sample]"
   ]
  },
  {
   "cell_type": "code",
   "execution_count": null,
   "metadata": {},
   "outputs": [],
   "source": [
    "(cam_list_sample,\n",
    "bbox_list_sample,\n",
    "gt_known_loc_accuracy_sample,\n",
    "top_1_loc_accuracy_sample) = evaluate(model, X_sample, P_sample, Y_sample_one_hot, 'sample')"
   ]
  },
  {
   "cell_type": "code",
   "execution_count": null,
   "metadata": {},
   "outputs": [],
   "source": [
    "visualize_cam(X_sample, Y_sample, cam_list_sample, idx_word_dict, n_show=2, start=16)"
   ]
  },
  {
   "cell_type": "markdown",
   "metadata": {},
   "source": [
    "# Evaluation"
   ]
  },
  {
   "cell_type": "code",
   "execution_count": null,
   "metadata": {},
   "outputs": [],
   "source": [
    "(cam_list_train,\n",
    "bbox_list_train,\n",
    "gt_known_loc_accuracy_train,\n",
    "top_1_loc_accuracy_train) = evaluate(model, X_train, P_train, Y_train_one_hot, 'train',\n",
    "                                     flag_preprocess=False)"
   ]
  },
  {
   "cell_type": "code",
   "execution_count": null,
   "metadata": {},
   "outputs": [],
   "source": [
    "(cam_list_valid,\n",
    "bbox_list_valid,\n",
    "gt_known_loc_accuracy_valid,\n",
    "top_1_loc_accuracy_valid) = evaluate(model, X_valid, P_valid, Y_valid_one_hot, 'valid',\n",
    "                                     flag_preprocess=False)"
   ]
  },
  {
   "cell_type": "code",
   "execution_count": null,
   "metadata": {},
   "outputs": [],
   "source": [
    "(cam_list_test,\n",
    "bbox_list_test,\n",
    "gt_known_loc_accuracy_test,\n",
    "top_1_loc_accuracy_test) = evaluate(model, X_test, P_test, Y_test_one_hot, 'test',\n",
    "                                    flag_preprocess=False)"
   ]
  },
  {
   "cell_type": "markdown",
   "metadata": {},
   "source": [
    "# Visualization"
   ]
  },
  {
   "cell_type": "code",
   "execution_count": null,
   "metadata": {},
   "outputs": [],
   "source": [
    "visualize(X_train, P_train, Y_train, cam_list_train, bbox_list_train, idx_word_dict,\n",
    "          n_show=3, start=0)"
   ]
  },
  {
   "cell_type": "code",
   "execution_count": null,
   "metadata": {},
   "outputs": [],
   "source": [
    "visualize(X_valid, P_valid, Y_valid, cam_list_valid, bbox_list_valid, idx_word_dict,\n",
    "          n_show=3, start=0)"
   ]
  },
  {
   "cell_type": "code",
   "execution_count": null,
   "metadata": {},
   "outputs": [],
   "source": [
    "visualize(X_test, P_test, Y_test, cam_list_test, bbox_list_test, idx_word_dict,\n",
    "          n_show=3, start=6)"
   ]
  }
 ],
 "metadata": {
  "kernelspec": {
   "display_name": "Python 3",
   "language": "python",
   "name": "python3"
  },
  "language_info": {
   "codemirror_mode": {
    "name": "ipython",
    "version": 3
   },
   "file_extension": ".py",
   "mimetype": "text/x-python",
   "name": "python",
   "nbconvert_exporter": "python",
   "pygments_lexer": "ipython3",
   "version": "3.5.2"
  }
 },
 "nbformat": 4,
 "nbformat_minor": 2
}
